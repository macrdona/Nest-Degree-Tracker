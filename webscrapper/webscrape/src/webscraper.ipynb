{
 "cells": [
  {
   "cell_type": "code",
   "execution_count": 3,
   "metadata": {},
   "outputs": [
    {
     "ename": "ModuleNotFoundError",
     "evalue": "No module named 'selenium'",
     "output_type": "error",
     "traceback": [
      "\u001b[1;31m---------------------------------------------------------------------------\u001b[0m",
      "\u001b[1;31mModuleNotFoundError\u001b[0m                       Traceback (most recent call last)",
      "Cell \u001b[1;32mIn[3], line 1\u001b[0m\n\u001b[1;32m----> 1\u001b[0m \u001b[39mfrom\u001b[39;00m \u001b[39mselenium\u001b[39;00m \u001b[39mimport\u001b[39;00m webdriver\n\u001b[0;32m      2\u001b[0m \u001b[39mfrom\u001b[39;00m \u001b[39mbs4\u001b[39;00m \u001b[39mimport\u001b[39;00m BeautifulSoup\n\u001b[0;32m      3\u001b[0m \u001b[39mfrom\u001b[39;00m \u001b[39mselenium\u001b[39;00m\u001b[39m.\u001b[39;00m\u001b[39mwebdriver\u001b[39;00m\u001b[39m.\u001b[39;00m\u001b[39msupport\u001b[39;00m\u001b[39m.\u001b[39;00m\u001b[39mui\u001b[39;00m \u001b[39mimport\u001b[39;00m WebDriverWait\n",
      "\u001b[1;31mModuleNotFoundError\u001b[0m: No module named 'selenium'"
     ]
    }
   ],
   "source": [
    "from selenium import webdriver\n",
    "from bs4 import BeautifulSoup\n",
    "from selenium.webdriver.support.ui import WebDriverWait\n",
    "from selenium.webdriver.support import expected_conditions as EC\n",
    "from selenium.webdriver.common.by import By\n",
    "import re\n",
    "import pandas as pd\n",
    "import pandas as pd\n",
    "\n",
    "#web drivers used to access web pages\n",
    "chrome = r\"C:\\\\Users\\\\gabim\\\\WebBrowserDriver\\\\chromedriver.exe\"\n",
    "driver = webdriver.Chrome(executable_path=chrome)\n",
    "\n",
    "#url to navigate \n",
    "url = \"https://www.unf.edu/catalog/courses/?level=ug\"\n",
    "driver.get(url)\n",
    "\n",
    "dropdown = WebDriverWait(driver, 10).until(EC.element_to_be_clickable((By.ID, \"searchDepartments\")))\n",
    "\n",
    "# Click on the dropdown to open it\n",
    "dropdown.click()\n",
    "\n",
    "item = WebDriverWait(driver, 10).until(EC.element_to_be_clickable((By.XPATH, \"//*[text()='Computing']\")))\n",
    "item.click()\n",
    "\n",
    "#have website wait until \"accordion-item\" class elements have been loaded\n",
    "WebDriverWait(driver,30).until(EC.presence_of_element_located((By.CLASS_NAME, \"accordion-item\")))\n",
    "\n",
    "html = driver.page_source\n",
    "\n",
    "soup = BeautifulSoup(html, \"html.parser\")\n",
    "\n",
    "query = soup.find_all(class_=\"accordion-item\")"
   ]
  },
  {
   "cell_type": "code",
   "execution_count": 17,
   "metadata": {},
   "outputs": [
    {
     "name": "stdout",
     "output_type": "stream",
     "text": [
      "Number of records that could not be processed 0\n"
     ]
    }
   ],
   "source": [
    "records = {}\n",
    "record_error = 0\n",
    "for index,q in enumerate(query):\n",
    "    try:\n",
    "        data = list()\n",
    "\n",
    "        #extracting data from html\n",
    "        a_tag = str(q.a.get_text()).replace(u'\\xa0', u' ').split(\"\\n\")\n",
    "        section_tag = str(q.section.get_text()).replace(u'\\xa0', u' ').split(\"\\n\")\n",
    "\n",
    "        data.extend(a_tag)\n",
    "        data.extend(section_tag)\n",
    "\n",
    "        #removing white spaces\n",
    "        for x in range(len(data)):\n",
    "            data[x] = \" \".join(data[x].split())\n",
    "            \n",
    "        #remove empty strings\n",
    "        data = list(filter(None,data))\n",
    "\n",
    "        #remove duplicates\n",
    "        data = list(dict.fromkeys(data))\n",
    "\n",
    "        \n",
    "        #separating course number and course name\n",
    "        for i,s in enumerate(data.pop(0).split(\":\",1)):\n",
    "            data.insert(i,s)\n",
    "        \n",
    "        #create record\n",
    "        record = {\"Number\": data[0], \"Name\": data[1], \"Credits\": int(re.sub('[^0-9]', \"\", data[2]).strip()), \"Prerequisite\": \"None\", \"Co-requisite\": \"None\", \"Description\": \"None\", \"Availability\": \"None\"}\n",
    "\n",
    "        #adding info to records\n",
    "        for d in data[3:]:\n",
    "            if \"prerequisite:\" in d.lower() or \"prerequisites:\" in d.lower():\n",
    "                record[\"Prerequisite\"] = d\n",
    "            elif \"co-requisite:\" in d.lower() or \"co-requisites:\" in d.lower():\n",
    "                record[\"Co-requisite\"] = d\n",
    "            elif \"description:\" in d.lower():\n",
    "                record[\"Description\"] = d\n",
    "            elif \"availability:\" in d.lower():\n",
    "                record[\"Availability\"] = d\n",
    "            else:\n",
    "                record[\"Description\"] = d\n",
    "            \n",
    "        records[index] = record\n",
    "\n",
    "    except AttributeError:\n",
    "        record_error += 1\n",
    "\n",
    "print(f\"Number of records that could not be processed {record_error}\")"
   ]
  },
  {
   "cell_type": "code",
   "execution_count": 18,
   "metadata": {},
   "outputs": [],
   "source": [
    "df_csv = pd.DataFrame(records)\n",
    "df_json = pd.DataFrame(records)"
   ]
  },
  {
   "cell_type": "code",
   "execution_count": 19,
   "metadata": {},
   "outputs": [],
   "source": [
    "df_csv = df_csv.swapaxes(\"index\", \"columns\")"
   ]
  },
  {
   "cell_type": "code",
   "execution_count": 20,
   "metadata": {},
   "outputs": [],
   "source": [
    "df_json.to_json(\"output_v2\\output.json\")\n",
    "df_csv.to_csv(\"output_v2\\output.csv\")"
   ]
  }
 ],
 "metadata": {
  "kernelspec": {
   "display_name": "Python 3",
   "language": "python",
   "name": "python3"
  },
  "language_info": {
   "codemirror_mode": {
    "name": "ipython",
    "version": 3
   },
   "file_extension": ".py",
   "mimetype": "text/x-python",
   "name": "python",
   "nbconvert_exporter": "python",
   "pygments_lexer": "ipython3",
   "version": "3.11.1"
  },
  "orig_nbformat": 4,
  "vscode": {
   "interpreter": {
    "hash": "5cc4bdbaba3961fa0c868043877c78e94ceaaa195878ff0e1784793fdc052f36"
   }
  }
 },
 "nbformat": 4,
 "nbformat_minor": 2
}
