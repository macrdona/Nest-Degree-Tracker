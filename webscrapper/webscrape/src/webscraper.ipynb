{
 "cells": [
  {
   "cell_type": "code",
   "execution_count": 247,
   "metadata": {},
   "outputs": [
    {
     "name": "stderr",
     "output_type": "stream",
     "text": [
      "C:\\Users\\gabim\\AppData\\Local\\Temp\\ipykernel_15268\\4094745781.py:12: DeprecationWarning: executable_path has been deprecated, please pass in a Service object\n",
      "  driver = webdriver.Chrome(executable_path=chrome)\n"
     ]
    }
   ],
   "source": [
    "from selenium import webdriver\n",
    "from bs4 import BeautifulSoup\n",
    "from selenium.webdriver.support.ui import WebDriverWait\n",
    "from selenium.webdriver.support import expected_conditions as EC\n",
    "from selenium.webdriver.common.by import By\n",
    "import re\n",
    "import pandas as pd\n",
    "import pandas as pd\n",
    "\n",
    "#web drivers used to access web pages\n",
    "chrome = r\"C:\\\\Users\\\\gabim\\\\WebBrowserDriver\\\\chromedriver.exe\"\n",
    "driver = webdriver.Chrome(executable_path=chrome)\n",
    "\n",
    "#url to navigate \n",
    "url = \"https://www.unf.edu/catalog/courses/?level=ug\"\n",
    "driver.get(url)\n",
    "\n",
    "dropdown = WebDriverWait(driver, 10).until(EC.element_to_be_clickable((By.ID, \"searchDepartments\")))\n",
    "\n",
    "# Click on the dropdown to open it\n",
    "dropdown.click()\n",
    "\n",
    "item = WebDriverWait(driver, 10).until(EC.element_to_be_clickable((By.XPATH, \"//*[text()='Computing']\")))\n",
    "item.click()\n",
    "\n",
    "#have website wait until \"accordion-item\" class elements have been loaded\n",
    "WebDriverWait(driver,30).until(EC.presence_of_element_located((By.CLASS_NAME, \"accordion-item\")))\n",
    "\n",
    "html = driver.page_source\n",
    "\n",
    "soup = BeautifulSoup(html, \"html.parser\")\n",
    "\n",
    "query = soup.find_all(class_=\"accordion-item\")"
   ]
  },
  {
   "cell_type": "code",
   "execution_count": 347,
   "metadata": {},
   "outputs": [
    {
     "name": "stdout",
     "output_type": "stream",
     "text": [
      "Number of records that could not be processed 0\n"
     ]
    }
   ],
   "source": [
    "records = {}\n",
    "record_error = 0\n",
    "for index,q in enumerate(query):\n",
    "    try:\n",
    "        data = list()\n",
    "\n",
    "        #extracting data from html\n",
    "        a_tag = str(q.a.get_text()).replace(u'\\xa0', u' ').split(\"\\n\")\n",
    "        section_tag = str(q.section.get_text()).replace(u'\\xa0', u' ').split(\"\\n\")\n",
    "\n",
    "        data.extend(a_tag)\n",
    "        data.extend(section_tag)\n",
    "\n",
    "        #removing white spaces\n",
    "        for x in range(len(data)):\n",
    "            data[x] = \" \".join(data[x].split())\n",
    "            \n",
    "        #remove empty strings\n",
    "        data = list(filter(None,data))\n",
    "\n",
    "        #remove duplicates\n",
    "        data = list(dict.fromkeys(data))\n",
    "\n",
    "        #separating course number and course name\n",
    "        for i,s in enumerate(data.pop(0).split(\":\")):\n",
    "            data.insert(i,s)\n",
    "        \n",
    "        #create record\n",
    "        record = {\"Number\": data[0], \"Name\": data[1], \"Credits\": data[2], \"Prerequisite\": \"None\", \"Co-requisite\": \"None\", \"Description\": \"None\", \"Availability\": \"None\"}\n",
    "\n",
    "        #adding info to records\n",
    "        for d in data[3:]:\n",
    "            if \"prerequisite:\" in d.lower() or \"prerequisites:\" in d.lower():\n",
    "                record[\"Prerequisite\"] = d\n",
    "            elif \"co-requisite:\" in d.lower() or \"co-requisites:\" in d.lower():\n",
    "                record[\"Co-requisite\"] = d\n",
    "            elif \"description:\" in d.lower():\n",
    "                record[\"Description\"] = d\n",
    "            elif \"availability:\" in d.lower():\n",
    "                record[\"Availability\"] = d\n",
    "            else:\n",
    "                record[\"Description\"] = d\n",
    "            \n",
    "        records[index] = record\n",
    "\n",
    "    except AttributeError:\n",
    "        record_error += 1\n",
    "\n",
    "print(f\"Number of records that could not be processed {record_error}\")"
   ]
  },
  {
   "cell_type": "code",
   "execution_count": 351,
   "metadata": {},
   "outputs": [],
   "source": [
    "df_csv = pd.DataFrame(records)\n",
    "df_json = pd.DataFrame(records)"
   ]
  },
  {
   "cell_type": "code",
   "execution_count": 352,
   "metadata": {},
   "outputs": [],
   "source": [
    "df_csv = df_csv.swapaxes(\"index\", \"columns\")"
   ]
  },
  {
   "cell_type": "code",
   "execution_count": 353,
   "metadata": {},
   "outputs": [],
   "source": [
    "df_json.to_json(\"output\\output.json\")\n",
    "df_csv.to_csv(\"output\\output.csv\")"
   ]
  }
 ],
 "metadata": {
  "kernelspec": {
   "display_name": "webscrape",
   "language": "python",
   "name": "python3"
  },
  "language_info": {
   "codemirror_mode": {
    "name": "ipython",
    "version": 3
   },
   "file_extension": ".py",
   "mimetype": "text/x-python",
   "name": "python",
   "nbconvert_exporter": "python",
   "pygments_lexer": "ipython3",
   "version": "3.9.12"
  },
  "orig_nbformat": 4,
  "vscode": {
   "interpreter": {
    "hash": "3db40b8a3fb50aa7c7a3c5762d6bd0afa40e73a2cf93b619b553cd97a7766836"
   }
  }
 },
 "nbformat": 4,
 "nbformat_minor": 2
}
