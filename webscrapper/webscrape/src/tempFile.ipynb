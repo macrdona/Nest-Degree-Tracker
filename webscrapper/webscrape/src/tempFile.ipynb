{
 "cells": [
  {
   "cell_type": "code",
   "execution_count": 103,
   "metadata": {},
   "outputs": [],
   "source": [
    "import sqlite3 as sq\n",
    "import pandas as pd\n",
    "import re\n",
    "connection = sq.connect(r\"C:\\\\Users\\\\gabim\\source\\\\repos\\Software-Engineering-Group-6\\backend\\Database\\\\test.db\")\n",
    "df = pd.read_csv(r\"C:\\\\Users\\\\gabim\\source\\\\repos\\Software-Engineering-Group-6\\webscrapper\\webscrape\\src\\\\output_v3\\\\output.csv\", index_col=False)\n",
    "df = df.drop([\"Unnamed: 0\"], axis=1)\n",
    "df = df.drop([\"Repeatability\"], axis=1)\n",
    "df = df.drop([\"CourseFees\"], axis=1)\n",
    "df[\"CourseId\"] = df[\"CourseId\"].apply(lambda x: re.sub(\" \", \"\", x))"
   ]
  },
  {
   "cell_type": "code",
   "execution_count": 104,
   "metadata": {},
   "outputs": [],
   "source": [
    "def formatData(df,col):\n",
    "    ex = df[col].copy()\n",
    "    list1 = list()\n",
    "    list2 = list()\n",
    "    for x in range(len(ex)):\n",
    "        if ex[x]:\n",
    "            list1.append(re.findall(\"[A-Z]{3}[0-9]{4}\",str(ex[x]).replace(\" \",\"\")))\n",
    "\n",
    "    for x in range(len(ex)):\n",
    "        if ex[x]:\n",
    "            list2.append(re.findall(\"[A-Z]{3}[0-9]{4}[A-Z]{1}\",str(ex[x]).replace(\" \",\"\")))\n",
    "\n",
    "    new_list = list()\n",
    "    for x,y,i in zip(list1,list2,range(len(ex))):\n",
    "        \n",
    "        if x or y:\n",
    "            x.extend(y)\n",
    "            new_list.append(\",\".join(x))\n",
    "        else:\n",
    "            new_list.append(\"N/A\")\n",
    "\n",
    "    df[col] = df[col].apply(lambda x: lamb(new_list))"
   ]
  },
  {
   "cell_type": "code",
   "execution_count": 105,
   "metadata": {},
   "outputs": [
    {
     "ename": "TypeError",
     "evalue": "lamb() missing 1 required positional argument: 'x'",
     "output_type": "error",
     "traceback": [
      "\u001b[1;31m---------------------------------------------------------------------------\u001b[0m",
      "\u001b[1;31mTypeError\u001b[0m                                 Traceback (most recent call last)",
      "Cell \u001b[1;32mIn[105], line 7\u001b[0m\n\u001b[0;32m      5\u001b[0m     counter\u001b[39m+\u001b[39m\u001b[39m=\u001b[39m\u001b[39m1\u001b[39m\n\u001b[0;32m      6\u001b[0m     \u001b[39mreturn\u001b[39;00m val\n\u001b[1;32m----> 7\u001b[0m formatData(df,\u001b[39m\"\u001b[39;49m\u001b[39mPrerequisites\u001b[39;49m\u001b[39m\"\u001b[39;49m)\n",
      "Cell \u001b[1;32mIn[104], line 22\u001b[0m, in \u001b[0;36mformatData\u001b[1;34m(df, col)\u001b[0m\n\u001b[0;32m     19\u001b[0m     \u001b[39melse\u001b[39;00m:\n\u001b[0;32m     20\u001b[0m         new_list\u001b[39m.\u001b[39mappend(\u001b[39m\"\u001b[39m\u001b[39mN/A\u001b[39m\u001b[39m\"\u001b[39m)\n\u001b[1;32m---> 22\u001b[0m df[col] \u001b[39m=\u001b[39m df[col]\u001b[39m.\u001b[39;49mapply(\u001b[39mlambda\u001b[39;49;00m x: lamb(new_list))\n",
      "File \u001b[1;32mc:\\Users\\gabim\\source\\repos\\Software-Engineering-Group-6\\.venv\\Lib\\site-packages\\pandas\\core\\series.py:4771\u001b[0m, in \u001b[0;36mSeries.apply\u001b[1;34m(self, func, convert_dtype, args, **kwargs)\u001b[0m\n\u001b[0;32m   4661\u001b[0m \u001b[39mdef\u001b[39;00m \u001b[39mapply\u001b[39m(\n\u001b[0;32m   4662\u001b[0m     \u001b[39mself\u001b[39m,\n\u001b[0;32m   4663\u001b[0m     func: AggFuncType,\n\u001b[1;32m   (...)\u001b[0m\n\u001b[0;32m   4666\u001b[0m     \u001b[39m*\u001b[39m\u001b[39m*\u001b[39mkwargs,\n\u001b[0;32m   4667\u001b[0m ) \u001b[39m-\u001b[39m\u001b[39m>\u001b[39m DataFrame \u001b[39m|\u001b[39m Series:\n\u001b[0;32m   4668\u001b[0m \u001b[39m    \u001b[39m\u001b[39m\"\"\"\u001b[39;00m\n\u001b[0;32m   4669\u001b[0m \u001b[39m    Invoke function on values of Series.\u001b[39;00m\n\u001b[0;32m   4670\u001b[0m \n\u001b[1;32m   (...)\u001b[0m\n\u001b[0;32m   4769\u001b[0m \u001b[39m    dtype: float64\u001b[39;00m\n\u001b[0;32m   4770\u001b[0m \u001b[39m    \"\"\"\u001b[39;00m\n\u001b[1;32m-> 4771\u001b[0m     \u001b[39mreturn\u001b[39;00m SeriesApply(\u001b[39mself\u001b[39;49m, func, convert_dtype, args, kwargs)\u001b[39m.\u001b[39;49mapply()\n",
      "File \u001b[1;32mc:\\Users\\gabim\\source\\repos\\Software-Engineering-Group-6\\.venv\\Lib\\site-packages\\pandas\\core\\apply.py:1123\u001b[0m, in \u001b[0;36mSeriesApply.apply\u001b[1;34m(self)\u001b[0m\n\u001b[0;32m   1120\u001b[0m     \u001b[39mreturn\u001b[39;00m \u001b[39mself\u001b[39m\u001b[39m.\u001b[39mapply_str()\n\u001b[0;32m   1122\u001b[0m \u001b[39m# self.f is Callable\u001b[39;00m\n\u001b[1;32m-> 1123\u001b[0m \u001b[39mreturn\u001b[39;00m \u001b[39mself\u001b[39;49m\u001b[39m.\u001b[39;49mapply_standard()\n",
      "File \u001b[1;32mc:\\Users\\gabim\\source\\repos\\Software-Engineering-Group-6\\.venv\\Lib\\site-packages\\pandas\\core\\apply.py:1174\u001b[0m, in \u001b[0;36mSeriesApply.apply_standard\u001b[1;34m(self)\u001b[0m\n\u001b[0;32m   1172\u001b[0m     \u001b[39melse\u001b[39;00m:\n\u001b[0;32m   1173\u001b[0m         values \u001b[39m=\u001b[39m obj\u001b[39m.\u001b[39mastype(\u001b[39mobject\u001b[39m)\u001b[39m.\u001b[39m_values\n\u001b[1;32m-> 1174\u001b[0m         mapped \u001b[39m=\u001b[39m lib\u001b[39m.\u001b[39;49mmap_infer(\n\u001b[0;32m   1175\u001b[0m             values,\n\u001b[0;32m   1176\u001b[0m             f,\n\u001b[0;32m   1177\u001b[0m             convert\u001b[39m=\u001b[39;49m\u001b[39mself\u001b[39;49m\u001b[39m.\u001b[39;49mconvert_dtype,\n\u001b[0;32m   1178\u001b[0m         )\n\u001b[0;32m   1180\u001b[0m \u001b[39mif\u001b[39;00m \u001b[39mlen\u001b[39m(mapped) \u001b[39mand\u001b[39;00m \u001b[39misinstance\u001b[39m(mapped[\u001b[39m0\u001b[39m], ABCSeries):\n\u001b[0;32m   1181\u001b[0m     \u001b[39m# GH#43986 Need to do list(mapped) in order to get treated as nested\u001b[39;00m\n\u001b[0;32m   1182\u001b[0m     \u001b[39m#  See also GH#25959 regarding EA support\u001b[39;00m\n\u001b[0;32m   1183\u001b[0m     \u001b[39mreturn\u001b[39;00m obj\u001b[39m.\u001b[39m_constructor_expanddim(\u001b[39mlist\u001b[39m(mapped), index\u001b[39m=\u001b[39mobj\u001b[39m.\u001b[39mindex)\n",
      "File \u001b[1;32mc:\\Users\\gabim\\source\\repos\\Software-Engineering-Group-6\\.venv\\Lib\\site-packages\\pandas\\_libs\\lib.pyx:2924\u001b[0m, in \u001b[0;36mpandas._libs.lib.map_infer\u001b[1;34m()\u001b[0m\n",
      "Cell \u001b[1;32mIn[104], line 22\u001b[0m, in \u001b[0;36mformatData.<locals>.<lambda>\u001b[1;34m(x)\u001b[0m\n\u001b[0;32m     19\u001b[0m     \u001b[39melse\u001b[39;00m:\n\u001b[0;32m     20\u001b[0m         new_list\u001b[39m.\u001b[39mappend(\u001b[39m\"\u001b[39m\u001b[39mN/A\u001b[39m\u001b[39m\"\u001b[39m)\n\u001b[1;32m---> 22\u001b[0m df[col] \u001b[39m=\u001b[39m df[col]\u001b[39m.\u001b[39mapply(\u001b[39mlambda\u001b[39;00m x: lamb(new_list))\n",
      "\u001b[1;31mTypeError\u001b[0m: lamb() missing 1 required positional argument: 'x'"
     ]
    }
   ],
   "source": [
    "counter = 0\n",
    "def lamb(new_list):\n",
    "    global counter\n",
    "    val = new_list[counter]\n",
    "    counter+=1\n",
    "    return val\n",
    "formatData(df,\"Prerequisites\")"
   ]
  }
 ],
 "metadata": {
  "kernelspec": {
   "display_name": ".venv",
   "language": "python",
   "name": "python3"
  },
  "language_info": {
   "codemirror_mode": {
    "name": "ipython",
    "version": 3
   },
   "file_extension": ".py",
   "mimetype": "text/x-python",
   "name": "python",
   "nbconvert_exporter": "python",
   "pygments_lexer": "ipython3",
   "version": "3.11.0"
  },
  "orig_nbformat": 4
 },
 "nbformat": 4,
 "nbformat_minor": 2
}
